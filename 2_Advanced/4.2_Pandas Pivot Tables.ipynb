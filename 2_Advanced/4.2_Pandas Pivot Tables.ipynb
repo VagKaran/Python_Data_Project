{
 "cells": [
  {
   "cell_type": "markdown",
   "id": "c938f726",
   "metadata": {},
   "source": [
    "<a target=\"_blank\" href=\"https://colab.research.google.com/github/lukebarousse/Python_Data_Analytics_Course/blob/main/4_Problems/2_04_Pandas Pivot Tables.ipynb\">\n",
    "  <img src=\"https://colab.research.google.com/assets/colab-badge.svg\" alt=\"Open In Colab\"/>\n",
    "</a>"
   ]
  },
  {
   "cell_type": "code",
   "execution_count": 5,
   "id": "fa26b1fd",
   "metadata": {},
   "outputs": [],
   "source": [
    "# Importing Libraries\n",
    "import pandas as pd\n",
    "from datasets import load_dataset\n",
    "import matplotlib.pyplot as plt  \n",
    "\n",
    "# Loading Data\n",
    "dataset = load_dataset('lukebarousse/data_jobs')\n",
    "df = dataset['train'].to_pandas()\n",
    "\n",
    "# Data Cleanup\n",
    "df['job_posted_date'] = pd.to_datetime(df['job_posted_date'])"
   ]
  },
  {
   "cell_type": "markdown",
   "id": "d4aeedce",
   "metadata": {},
   "source": [
    "## 🟩 Count Job Postings by Title and Country (2.4.1)"
   ]
  },
  {
   "cell_type": "code",
   "execution_count": 3,
   "id": "32f1208b",
   "metadata": {},
   "outputs": [
    {
     "data": {
      "text/plain": [
       "job_title_short   job_country\n",
       "Business Analyst  Afghanistan      4\n",
       "                  Albania         11\n",
       "                  Algeria         21\n",
       "                  Angola           1\n",
       "                  Argentina      453\n",
       "                  Armenia         29\n",
       "                  Australia      928\n",
       "                  Austria        738\n",
       "                  Azerbaijan      16\n",
       "                  Bahamas          5\n",
       "dtype: int64"
      ]
     },
     "execution_count": 3,
     "metadata": {},
     "output_type": "execute_result"
    }
   ],
   "source": [
    "pivot = df.pivot_table(index = ['job_title_short', 'job_country'], aggfunc= 'size')\n",
    "pivot.head(10)"
   ]
  },
  {
   "cell_type": "markdown",
   "id": "e4d809bb",
   "metadata": {},
   "source": [
    "---"
   ]
  },
  {
   "cell_type": "markdown",
   "id": "00be896a",
   "metadata": {},
   "source": [
    "## 🟨 Salary Stats by Job Title (2.4.2)"
   ]
  },
  {
   "cell_type": "code",
   "execution_count": 6,
   "id": "e8626e94",
   "metadata": {},
   "outputs": [
    {
     "data": {
      "text/html": [
       "<div>\n",
       "<style scoped>\n",
       "    .dataframe tbody tr th:only-of-type {\n",
       "        vertical-align: middle;\n",
       "    }\n",
       "\n",
       "    .dataframe tbody tr th {\n",
       "        vertical-align: top;\n",
       "    }\n",
       "\n",
       "    .dataframe thead tr th {\n",
       "        text-align: left;\n",
       "    }\n",
       "\n",
       "    .dataframe thead tr:last-of-type th {\n",
       "        text-align: right;\n",
       "    }\n",
       "</style>\n",
       "<table border=\"1\" class=\"dataframe\">\n",
       "  <thead>\n",
       "    <tr>\n",
       "      <th></th>\n",
       "      <th>min</th>\n",
       "      <th>max</th>\n",
       "      <th>mean</th>\n",
       "    </tr>\n",
       "    <tr>\n",
       "      <th></th>\n",
       "      <th>salary_year_avg</th>\n",
       "      <th>salary_year_avg</th>\n",
       "      <th>salary_year_avg</th>\n",
       "    </tr>\n",
       "    <tr>\n",
       "      <th>company_name</th>\n",
       "      <th></th>\n",
       "      <th></th>\n",
       "      <th></th>\n",
       "    </tr>\n",
       "  </thead>\n",
       "  <tbody>\n",
       "    <tr>\n",
       "      <th>#twiceasnice Recruiting</th>\n",
       "      <td>61000.000000</td>\n",
       "      <td>120000.000000</td>\n",
       "      <td>77750.000000</td>\n",
       "    </tr>\n",
       "    <tr>\n",
       "      <th>/dev/color</th>\n",
       "      <td>125000.000000</td>\n",
       "      <td>125000.000000</td>\n",
       "      <td>125000.000000</td>\n",
       "    </tr>\n",
       "    <tr>\n",
       "      <th>0nward Select</th>\n",
       "      <td>92500.000000</td>\n",
       "      <td>92500.000000</td>\n",
       "      <td>92500.000000</td>\n",
       "    </tr>\n",
       "    <tr>\n",
       "      <th>1 Point System</th>\n",
       "      <td>137290.484375</td>\n",
       "      <td>137290.484375</td>\n",
       "      <td>137290.484375</td>\n",
       "    </tr>\n",
       "    <tr>\n",
       "      <th>1 Point System LLC.</th>\n",
       "      <td>170000.000000</td>\n",
       "      <td>170000.000000</td>\n",
       "      <td>170000.000000</td>\n",
       "    </tr>\n",
       "  </tbody>\n",
       "</table>\n",
       "</div>"
      ],
      "text/plain": [
       "                                    min             max            mean\n",
       "                        salary_year_avg salary_year_avg salary_year_avg\n",
       "company_name                                                           \n",
       "#twiceasnice Recruiting    61000.000000   120000.000000    77750.000000\n",
       "/dev/color                125000.000000   125000.000000   125000.000000\n",
       "0nward Select              92500.000000    92500.000000    92500.000000\n",
       "1 Point System            137290.484375   137290.484375   137290.484375\n",
       "1 Point System LLC.       170000.000000   170000.000000   170000.000000"
      ]
     },
     "execution_count": 6,
     "metadata": {},
     "output_type": "execute_result"
    }
   ],
   "source": [
    "df_salary_per_company = df.pivot_table( \n",
    "    values = 'salary_year_avg', \n",
    "    index = 'company_name',  \n",
    "    aggfunc = ['min', 'max', 'mean']\n",
    ")\n",
    "\n",
    "df_salary_per_company.head(5)"
   ]
  },
  {
   "cell_type": "markdown",
   "id": "2dc1951b",
   "metadata": {},
   "source": [
    "---"
   ]
  },
  {
   "cell_type": "markdown",
   "id": "69a27730",
   "metadata": {},
   "source": [
    "## 🟥 Sum Salary by Title and Country (2.4.3)"
   ]
  },
  {
   "cell_type": "code",
   "execution_count": 9,
   "id": "2affb01f",
   "metadata": {},
   "outputs": [
    {
     "data": {
      "text/html": [
       "<div>\n",
       "<style scoped>\n",
       "    .dataframe tbody tr th:only-of-type {\n",
       "        vertical-align: middle;\n",
       "    }\n",
       "\n",
       "    .dataframe tbody tr th {\n",
       "        vertical-align: top;\n",
       "    }\n",
       "\n",
       "    .dataframe thead th {\n",
       "        text-align: right;\n",
       "    }\n",
       "</style>\n",
       "<table border=\"1\" class=\"dataframe\">\n",
       "  <thead>\n",
       "    <tr style=\"text-align: right;\">\n",
       "      <th></th>\n",
       "      <th></th>\n",
       "      <th>salary_year_avg</th>\n",
       "    </tr>\n",
       "    <tr>\n",
       "      <th>company_name</th>\n",
       "      <th>job_country</th>\n",
       "      <th></th>\n",
       "    </tr>\n",
       "  </thead>\n",
       "  <tbody>\n",
       "    <tr>\n",
       "      <th rowspan=\"2\" valign=\"top\">2K</th>\n",
       "      <th>Ireland</th>\n",
       "      <td>157500.0</td>\n",
       "    </tr>\n",
       "    <tr>\n",
       "      <th>United States</th>\n",
       "      <td>153750.0</td>\n",
       "    </tr>\n",
       "    <tr>\n",
       "      <th>1872 Consulting</th>\n",
       "      <th>Sudan</th>\n",
       "      <td>145000.0</td>\n",
       "    </tr>\n",
       "    <tr>\n",
       "      <th>2U</th>\n",
       "      <th>United States</th>\n",
       "      <td>135000.0</td>\n",
       "    </tr>\n",
       "    <tr>\n",
       "      <th>3M</th>\n",
       "      <th>United States</th>\n",
       "      <td>128452.5</td>\n",
       "    </tr>\n",
       "    <tr>\n",
       "      <th>/dev/color</th>\n",
       "      <th>United States</th>\n",
       "      <td>125000.0</td>\n",
       "    </tr>\n",
       "    <tr>\n",
       "      <th>3B Staffing LLC</th>\n",
       "      <th>United States</th>\n",
       "      <td>120000.0</td>\n",
       "    </tr>\n",
       "    <tr>\n",
       "      <th>4 Corner Resources</th>\n",
       "      <th>United States</th>\n",
       "      <td>114000.0</td>\n",
       "    </tr>\n",
       "    <tr>\n",
       "      <th>2K</th>\n",
       "      <th>United Kingdom</th>\n",
       "      <td>105300.0</td>\n",
       "    </tr>\n",
       "    <tr>\n",
       "      <th>3Red Partners</th>\n",
       "      <th>United States</th>\n",
       "      <td>100000.0</td>\n",
       "    </tr>\n",
       "  </tbody>\n",
       "</table>\n",
       "</div>"
      ],
      "text/plain": [
       "                                   salary_year_avg\n",
       "company_name       job_country                    \n",
       "2K                 Ireland                157500.0\n",
       "                   United States          153750.0\n",
       "1872 Consulting    Sudan                  145000.0\n",
       "2U                 United States          135000.0\n",
       "3M                 United States          128452.5\n",
       "/dev/color         United States          125000.0\n",
       "3B Staffing LLC    United States          120000.0\n",
       "4 Corner Resources United States          114000.0\n",
       "2K                 United Kingdom         105300.0\n",
       "3Red Partners      United States          100000.0"
      ]
     },
     "execution_count": 9,
     "metadata": {},
     "output_type": "execute_result"
    }
   ],
   "source": [
    "\n",
    "df_filter = df[df['job_title_short'] == 'Data Scientist']\n",
    "\n",
    "df_median_sal = df_filter.pivot_table (\n",
    "    values= 'salary_year_avg',\n",
    "    index = ['company_name', 'job_country'],\n",
    "    aggfunc = 'median'\n",
    ")\n",
    "\n",
    "df_final = df_median_sal[df_median_sal['salary_year_avg'] > 20_000]\n",
    "\n",
    "df_final.head(10).sort_values(by = 'salary_year_avg', ascending = False)\n",
    "\n"
   ]
  },
  {
   "cell_type": "markdown",
   "id": "a358d02d",
   "metadata": {},
   "source": [
    "---"
   ]
  }
 ],
 "metadata": {
  "kernelspec": {
   "display_name": "python_project",
   "language": "python",
   "name": "python3"
  },
  "language_info": {
   "codemirror_mode": {
    "name": "ipython",
    "version": 3
   },
   "file_extension": ".py",
   "mimetype": "text/x-python",
   "name": "python",
   "nbconvert_exporter": "python",
   "pygments_lexer": "ipython3",
   "version": "3.11.11"
  }
 },
 "nbformat": 4,
 "nbformat_minor": 5
}
