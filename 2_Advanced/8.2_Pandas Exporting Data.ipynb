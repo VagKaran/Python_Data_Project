{
 "cells": [
  {
   "cell_type": "markdown",
   "id": "5f611dec",
   "metadata": {},
   "source": [
    "<a target=\"_blank\" href=\"https://colab.research.google.com/github/lukebarousse/Python_Data_Analytics_Course/blob/main/4_Problems/2_09_Pandas Exporting Data.ipynb\">\n",
    "  <img src=\"https://colab.research.google.com/assets/colab-badge.svg\" alt=\"Open In Colab\"/>\n",
    "</a>"
   ]
  },
  {
   "cell_type": "code",
   "execution_count": 1,
   "id": "56314e2e",
   "metadata": {},
   "outputs": [],
   "source": [
    "# Importing Libraries\n",
    "import pandas as pd\n",
    "from datasets import load_dataset\n",
    "import matplotlib.pyplot as plt  \n",
    "\n",
    "# Loading Data\n",
    "dataset = load_dataset('lukebarousse/data_jobs')\n",
    "df = dataset['train'].to_pandas()\n",
    "\n",
    "# Data Cleanup\n",
    "df['job_posted_date'] = pd.to_datetime(df['job_posted_date'])"
   ]
  },
  {
   "cell_type": "markdown",
   "id": "305d444b",
   "metadata": {},
   "source": [
    "## 🟩 Export to CSV (2.9.1)"
   ]
  },
  {
   "cell_type": "code",
   "execution_count": null,
   "id": "21511e09",
   "metadata": {},
   "outputs": [],
   "source": []
  },
  {
   "cell_type": "markdown",
   "id": "b31df39f",
   "metadata": {},
   "source": [
    "---"
   ]
  },
  {
   "cell_type": "markdown",
   "id": "a69496cd",
   "metadata": {},
   "source": [
    "## 🟨 Filter and Export to CSV (2.9.2)"
   ]
  },
  {
   "cell_type": "code",
   "execution_count": 3,
   "id": "0c108c5d",
   "metadata": {},
   "outputs": [],
   "source": [
    "df_ds = df[df['job_title_short'] == 'Data Scientist']\n",
    "\n",
    "df_ds.to_csv('data_scientist_jobs.csv', index=False)\n"
   ]
  },
  {
   "cell_type": "markdown",
   "id": "792e3d8b",
   "metadata": {},
   "source": [
    "---"
   ]
  },
  {
   "cell_type": "markdown",
   "id": "12f0ff69",
   "metadata": {},
   "source": [
    "## 🟥 Export to Excel (2.9.3)"
   ]
  },
  {
   "cell_type": "code",
   "execution_count": 4,
   "id": "d9b12a90",
   "metadata": {},
   "outputs": [],
   "source": [
    "df_location = df[df['job_location'] == 'New York,NY']\n",
    "\n",
    "df_location.head(50).to_excel('new_york_jobs.xlsx', index=False)"
   ]
  },
  {
   "cell_type": "code",
   "execution_count": null,
   "id": "ecee8e56",
   "metadata": {},
   "outputs": [],
   "source": []
  },
  {
   "cell_type": "markdown",
   "id": "62bf636c",
   "metadata": {},
   "source": [
    "---"
   ]
  }
 ],
 "metadata": {
  "kernelspec": {
   "display_name": "python_project",
   "language": "python",
   "name": "python3"
  },
  "language_info": {
   "codemirror_mode": {
    "name": "ipython",
    "version": 3
   },
   "file_extension": ".py",
   "mimetype": "text/x-python",
   "name": "python",
   "nbconvert_exporter": "python",
   "pygments_lexer": "ipython3",
   "version": "3.11.11"
  }
 },
 "nbformat": 4,
 "nbformat_minor": 5
}
