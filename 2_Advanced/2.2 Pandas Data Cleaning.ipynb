{
 "cells": [
  {
   "cell_type": "markdown",
   "id": "50249611",
   "metadata": {},
   "source": [
    "<a target=\"_blank\" href=\"https://colab.research.google.com/github/lukebarousse/Python_Data_Analytics_Course/blob/main/4_Problems/2_02_Pandas Data Cleaning.ipynb\">\n",
    "  <img src=\"https://colab.research.google.com/assets/colab-badge.svg\" alt=\"Open In Colab\"/>\n",
    "</a>"
   ]
  },
  {
   "cell_type": "code",
   "execution_count": 1,
   "id": "f0929e6d",
   "metadata": {},
   "outputs": [],
   "source": [
    "# Importing Libraries\n",
    "import pandas as pd\n",
    "from datasets import load_dataset\n",
    "import matplotlib.pyplot as plt  \n",
    "\n",
    "# Loading Data\n",
    "dataset = load_dataset('lukebarousse/data_jobs')\n",
    "df = dataset['train'].to_pandas()\n",
    "\n",
    "# Data Cleanup\n",
    "df['job_posted_date'] = pd.to_datetime(df['job_posted_date'])"
   ]
  },
  {
   "cell_type": "markdown",
   "id": "7e5d8211",
   "metadata": {},
   "source": [
    "## 🟩 Remove Rows with Missing Values (2.2.1)"
   ]
  },
  {
   "cell_type": "code",
   "execution_count": 12,
   "id": "4b8bc3c2",
   "metadata": {},
   "outputs": [
    {
     "data": {
      "text/plain": [
       "22003"
      ]
     },
     "execution_count": 12,
     "metadata": {},
     "output_type": "execute_result"
    }
   ],
   "source": [
    "\n",
    "\n",
    "df_filter = df_filter.dropna(subset = 'salary_year_avg')\n",
    "rows_after = len(df_filter)\n",
    "\n",
    "rows_after"
   ]
  },
  {
   "cell_type": "markdown",
   "id": "a148127f",
   "metadata": {},
   "source": [
    "---"
   ]
  },
  {
   "cell_type": "markdown",
   "id": "eaf03dda",
   "metadata": {},
   "source": [
    "## 🟨 Remove Duplicate Rows (2.2.2)"
   ]
  },
  {
   "cell_type": "code",
   "execution_count": 13,
   "id": "ae6ad853",
   "metadata": {},
   "outputs": [
    {
     "data": {
      "text/plain": [
       "(22003, 2054)"
      ]
     },
     "execution_count": 13,
     "metadata": {},
     "output_type": "execute_result"
    }
   ],
   "source": [
    "rows_before = df.shape[0]\n",
    "df_unique = df.drop_duplicates(subset=['job_location'])\n",
    "rows_after = df_unique.shape[0] \n",
    "\n",
    "rows_before,rows_after"
   ]
  },
  {
   "cell_type": "markdown",
   "id": "472bfc70",
   "metadata": {},
   "source": [
    "---"
   ]
  },
  {
   "cell_type": "markdown",
   "id": "e26a84d6",
   "metadata": {},
   "source": [
    "## 🟨 Fill Missing Values in Column (2.2.3)"
   ]
  },
  {
   "cell_type": "code",
   "execution_count": 19,
   "id": "b96b4fe1",
   "metadata": {},
   "outputs": [
    {
     "data": {
      "text/plain": [
       "(28     year\n",
       " 77     year\n",
       " 92     year\n",
       " 100    year\n",
       " 109    year\n",
       " 116    year\n",
       " 146    year\n",
       " 180    year\n",
       " 212    year\n",
       " 257    year\n",
       " Name: salary_rate, dtype: object,\n",
       " 28     year\n",
       " 77     year\n",
       " 92     year\n",
       " 100    year\n",
       " 109    year\n",
       " 116    year\n",
       " 146    year\n",
       " 180    year\n",
       " 212    year\n",
       " 257    year\n",
       " Name: salary_rate, dtype: object)"
      ]
     },
     "execution_count": 19,
     "metadata": {},
     "output_type": "execute_result"
    }
   ],
   "source": [
    "salary_rate_before = df.salary_rate.head(10)\n",
    "df_filled = df.fillna({'salary_rate': 'Unknown'})\n",
    "salary_rate_after = df_filled.salary_rate.head(10)\n",
    "salary_rate_before, salary_rate_after"
   ]
  },
  {
   "cell_type": "markdown",
   "id": "4ab1c267",
   "metadata": {},
   "source": [
    "---"
   ]
  }
 ],
 "metadata": {
  "kernelspec": {
   "display_name": "python_project",
   "language": "python",
   "name": "python3"
  },
  "language_info": {
   "codemirror_mode": {
    "name": "ipython",
    "version": 3
   },
   "file_extension": ".py",
   "mimetype": "text/x-python",
   "name": "python",
   "nbconvert_exporter": "python",
   "pygments_lexer": "ipython3",
   "version": "3.11.11"
  }
 },
 "nbformat": 4,
 "nbformat_minor": 5
}
